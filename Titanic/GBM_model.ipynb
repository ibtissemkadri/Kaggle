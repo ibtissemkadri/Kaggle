{
 "cells": [
  {
   "cell_type": "markdown",
   "metadata": {
    "collapsed": true
   },
   "source": [
    "# Passenger survival prediction in Titanic: Building GBM model"
   ]
  },
  {
   "cell_type": "markdown",
   "metadata": {},
   "source": [
    "This building of this model was guided by a tutorial in analyticsvidhiya: https://www.analyticsvidhya.com/blog/2016/02/complete-guide-parameter-tuning-gradient-boosting-gbm-python/"
   ]
  },
  {
   "cell_type": "markdown",
   "metadata": {},
   "source": [
    "## Import libraries"
   ]
  },
  {
   "cell_type": "code",
   "execution_count": 2,
   "metadata": {},
   "outputs": [],
   "source": [
    "import numpy as np\n",
    "import pandas as pd\n",
    "from sklearn.ensemble import GradientBoostingClassifier\n",
    "from sklearn import model_selection, metrics\n",
    "from sklearn.model_selection import GridSearchCV\n",
    "\n",
    "import matplotlib.pyplot as plt\n",
    "%matplotlib inline\n",
    "from matplotlib.pyplot import rcParams\n",
    "rcParams['figure.figsize']= 12,4"
   ]
  },
  {
   "cell_type": "markdown",
   "metadata": {},
   "source": [
    "## Load data"
   ]
  },
  {
   "cell_type": "code",
   "execution_count": 3,
   "metadata": {
    "collapsed": true
   },
   "outputs": [],
   "source": [
    "train = pd.read_csv('train_modified.csv')\n",
    "test = pd.read_csv('test_modified.csv')"
   ]
  },
  {
   "cell_type": "code",
   "execution_count": 4,
   "metadata": {
    "collapsed": true
   },
   "outputs": [],
   "source": [
    "target = 'Survived'\n",
    "IDcol = 'PassengerId'"
   ]
  },
  {
   "cell_type": "code",
   "execution_count": 5,
   "metadata": {},
   "outputs": [
    {
     "data": {
      "text/plain": [
       "0    549\n",
       "1    342\n",
       "Name: Survived, dtype: int64"
      ]
     },
     "execution_count": 5,
     "metadata": {},
     "output_type": "execute_result"
    }
   ],
   "source": [
    "train['Survived'].value_counts()"
   ]
  },
  {
   "cell_type": "markdown",
   "metadata": {},
   "source": [
    "## Define a function for modeling and cross-validation"
   ]
  },
  {
   "cell_type": "markdown",
   "metadata": {},
   "source": [
    "This function will do the following:\n",
    "\n",
    "1. fit the model\n",
    "2. determine training accuracy\n",
    "3. determine training AUC\n",
    "4. determine testing AUC\n",
    "5. perform CV if performCV is True\n",
    "6. plot Feature Importance if printFeatureImportance is True\n"
   ]
  },
  {
   "cell_type": "code",
   "execution_count": 6,
   "metadata": {
    "collapsed": true
   },
   "outputs": [],
   "source": [
    "def modelfit(alg, dtrain, predictors, performCV=True, printFeatureImportance=True, cv_folds=5):\n",
    "    \n",
    "    #Fit the algorithm on the data\n",
    "    alg.fit(dtrain[predictors], dtrain['Survived'])\n",
    "        \n",
    "    #Predict training set:\n",
    "    dtrain_predictions = alg.predict(dtrain[predictors])\n",
    "    dtrain_predprob = alg.predict_proba(dtrain[predictors])[:,1]\n",
    "    \n",
    "    #Perform cross-validation:\n",
    "    if performCV:\n",
    "        cv_score = model_selection.cross_val_score(alg, dtrain[predictors], dtrain['Survived'], \n",
    "                                                    cv=cv_folds, scoring='roc_auc')\n",
    "    \n",
    "    #Print model report:\n",
    "    print (\"\\nModel Report\")\n",
    "    print (\"Accuracy : %.4g\" % metrics.accuracy_score(dtrain['Survived'].values, dtrain_predictions))\n",
    "    print (\"AUC Score (Train): %f\" % metrics.roc_auc_score(dtrain['Survived'],dtrain_predprob))\n",
    "    \n",
    "    if performCV:\n",
    "        print (\"CV Score : Mean - %.7g | Std - %.7g | Min - %.7g | Max - %.7g\" % (np.mean(cv_score), \n",
    "                                 np.std(cv_score), np.min(cv_score), np.max(cv_score)))\n",
    "                \n",
    "    #Print Feature Importance:\n",
    "    if printFeatureImportance:\n",
    "        feat_imp = pd.Series(alg.feature_importances_, index=predictors).sort_values(ascending=False)\n",
    "        feat_imp.plot(kind='bar', title='Feature Importances')\n",
    "        plt.ylabel('Feature Importance Score')"
   ]
  },
  {
   "cell_type": "markdown",
   "metadata": {},
   "source": [
    "## Baseline model"
   ]
  },
  {
   "cell_type": "markdown",
   "metadata": {},
   "source": [
    "In this case, the evaluation metric is AUC so using any constant value will give 0.5 as result. Typically, a good baseline can be a GBM model with default parameters, i.e. without any tuning. Lets find out what it gives:"
   ]
  },
  {
   "cell_type": "code",
   "execution_count": 7,
   "metadata": {},
   "outputs": [
    {
     "name": "stdout",
     "output_type": "stream",
     "text": [
      "\n",
      "Model Report\n",
      "Accuracy : 0.8979\n",
      "AUC Score (Train): 0.950513\n",
      "CV Score : Mean - 0.880906 | Std - 0.03950195 | Min - 0.8151515 | Max - 0.9247841\n"
     ]
    },
    {
     "data": {
      "image/png": "[encoded data removed]",
      "text/plain": [
       "<matplotlib.figure.Figure at 0x7f7b00028da0>"
      ]
     },
     "metadata": {},
     "output_type": "display_data"
    }
   ],
   "source": [
    "predictors = [feat for feat in train.columns if feat not in [target, IDcol]]\n",
    "gbm0 = GradientBoostingClassifier(random_state=10)\n",
    "modelfit(gbm0, train, predictors)"
   ]
  },
  {
   "cell_type": "markdown",
   "metadata": {},
   "source": [
    "## GBM models"
   ]
  },
  {
   "cell_type": "markdown",
   "metadata": {},
   "source": [
    "There are 2 types of parameters:\n",
    "\n",
    "1. Tree-specific parameters\n",
    "    * min_samples_split\n",
    "    * min_samples_leaf\n",
    "    * max_depth\n",
    "    * min_leaf_nodes\n",
    "    * max_features\n",
    "    * loss function\n",
    "2. Boosting specific paramters\n",
    "    * n_estimators\n",
    "    * learning_rate\n",
    "    * subsample\n"
   ]
  },
  {
   "cell_type": "markdown",
   "metadata": {},
   "source": [
    "## Approach for tackling the problem"
   ]
  },
  {
   "cell_type": "markdown",
   "metadata": {},
   "source": [
    "1. Decide a relatively higher value for learning rate and tune the number of estimators requried for that.\n",
    "2. Tune the tree specific parameters for that learning rate\n",
    "3. Tune subsample\n",
    "4. Lower learning rate as much as possible computationally and increase the number of estimators accordingly.\n"
   ]
  },
  {
   "cell_type": "markdown",
   "metadata": {},
   "source": [
    "## Step 1- Find the number of estimators for a high learning rate"
   ]
  },
  {
   "cell_type": "markdown",
   "metadata": {
    "collapsed": true
   },
   "source": [
    "We will use the following benchmarks for parameters:\n",
    "1. min_samples_split = 5 : ~0.5-1% of total values.\n",
    "2. min_samples_leaf = 5 : Just using for preventing overfitting. will be tuned later.\n",
    "3. max_depth = 2\n",
    "4. max_features = 'sqrt' : general thumbrule to start with subsample = 0.8 : typically used value (will be tuned later)\n",
    "\n",
    "0.1 is assumed to be a good learning rate to start with. Let's try to find the optimum number of estimators requried for this."
   ]
  },
  {
   "cell_type": "code",
   "execution_count": 8,
   "metadata": {},
   "outputs": [
    {
     "data": {
      "text/plain": [
       "GridSearchCV(cv=5, error_score='raise',\n",
       "       estimator=GradientBoostingClassifier(criterion='friedman_mse', init=None,\n",
       "              learning_rate=0.1, loss='deviance', max_depth=2,\n",
       "              max_features='sqrt', max_leaf_nodes=None,\n",
       "              min_impurity_decrease=0.0, min_impurity_split=None,\n",
       "              min_samples_leaf=5, min_samples_split=5,\n",
       "              min_weight_fraction_leaf=0.0, n_estimators=100,\n",
       "              presort='auto', random_state=10, subsample=0.8, verbose=0,\n",
       "              warm_start=False),\n",
       "       fit_params=None, iid=False, n_jobs=-1,\n",
       "       param_grid={'n_estimators': array([20, 30, 40, 50, 60, 70, 80])},\n",
       "       pre_dispatch='2*n_jobs', refit=True, return_train_score=True,\n",
       "       scoring='roc_auc', verbose=0)"
      ]
     },
     "execution_count": 8,
     "metadata": {},
     "output_type": "execute_result"
    }
   ],
   "source": [
    "predictors = [feat for feat in train.columns if feat not in [target, IDcol]]\n",
    "param_test1 = {'n_estimators': np.arange(20, 81, 10)}\n",
    "gsearch1 = GridSearchCV(estimator=GradientBoostingClassifier(learning_rate=0.1, min_samples_split=5,\n",
    "        min_samples_leaf=5, max_depth=2, max_features='sqrt', subsample=0.8,random_state=10), \n",
    "                param_grid=param_test1, n_jobs=-1, scoring='roc_auc', iid=False, cv=5)\n",
    "gsearch1.fit(train[predictors], train[target])\n"
   ]
  },
  {
   "cell_type": "code",
   "execution_count": 10,
   "metadata": {},
   "outputs": [
    {
     "data": {
      "text/plain": [
       "({'mean_fit_time': array([ 0.07074819,  0.08593678,  0.08036056,  0.08244729,  0.09744987,\n",
       "          0.10766788,  0.11096387]),\n",
       "  'mean_score_time': array([ 0.00302553,  0.00239749,  0.00249772,  0.00236721,  0.00246177,\n",
       "          0.00230079,  0.00208282]),\n",
       "  'mean_test_score': array([ 0.85841868,  0.86761845,  0.87219064,  0.87453186,  0.87522009,\n",
       "          0.87451985,  0.87457329]),\n",
       "  'mean_train_score': array([ 0.87138485,  0.87994808,  0.88548728,  0.88890591,  0.8920539 ,\n",
       "          0.89440239,  0.89709969]),\n",
       "  'param_n_estimators': masked_array(data = [20 30 40 50 60 70 80],\n",
       "               mask = [False False False False False False False],\n",
       "         fill_value = ?),\n",
       "  'params': [{'n_estimators': 20},\n",
       "   {'n_estimators': 30},\n",
       "   {'n_estimators': 40},\n",
       "   {'n_estimators': 50},\n",
       "   {'n_estimators': 60},\n",
       "   {'n_estimators': 70},\n",
       "   {'n_estimators': 80}],\n",
       "  'rank_test_score': array([7, 6, 5, 3, 1, 4, 2], dtype=int32),\n",
       "  'split0_test_score': array([ 0.84196311,  0.86054018,  0.86660079,  0.86758893,  0.86752306,\n",
       "          0.86449275,  0.86383399]),\n",
       "  'split0_train_score': array([ 0.87658848,  0.88264204,  0.88646775,  0.89148247,  0.89439869,\n",
       "          0.89794905,  0.89989737]),\n",
       "  'split1_test_score': array([ 0.84051383,  0.84380764,  0.84229249,  0.84341238,  0.83787879,\n",
       "          0.83899868,  0.83333333]),\n",
       "  'split1_train_score': array([ 0.87833655,  0.88683071,  0.89328477,  0.8981201 ,  0.90314317,\n",
       "          0.90424041,  0.90744866]),\n",
       "  'split2_test_score': array([ 0.86510695,  0.87112299,  0.87981283,  0.88168449,  0.88362299,\n",
       "          0.8834893 ,  0.88489305]),\n",
       "  'split2_train_score': array([ 0.8662812 ,  0.88277938,  0.88837437,  0.88994979,  0.8914005 ,\n",
       "          0.89497531,  0.89643849]),\n",
       "  'split3_test_score': array([ 0.86316845,  0.87426471,  0.87653743,  0.87994652,  0.88522727,\n",
       "          0.8822861 ,  0.88302139]),\n",
       "  'split3_train_score': array([ 0.87468201,  0.88206857,  0.88632925,  0.88741416,  0.88942188,\n",
       "          0.89079777,  0.89391118]),\n",
       "  'split4_test_score': array([ 0.88134107,  0.88835672,  0.89570966,  0.90002698,  0.90184835,\n",
       "          0.90333243,  0.90778467]),\n",
       "  'split4_train_score': array([ 0.861036  ,  0.86541971,  0.87298026,  0.87756304,  0.88190528,\n",
       "          0.88404944,  0.88780275]),\n",
       "  'std_fit_time': array([ 0.025233  ,  0.03432225,  0.01832195,  0.00110548,  0.00237011,\n",
       "          0.00705459,  0.0183992 ]),\n",
       "  'std_score_time': array([  1.85874586e-04,   8.21957725e-05,   2.21428277e-04,\n",
       "           6.45892432e-05,   9.58851352e-05,   3.09026548e-04,\n",
       "           3.58682761e-04]),\n",
       "  'std_test_score': array([ 0.01538895,  0.01485656,  0.01763679,  0.01869281,  0.02160294,\n",
       "          0.02160198,  0.02488747]),\n",
       "  'std_train_score': array([ 0.00662452,  0.00745941,  0.00674139,  0.00668604,  0.00691114,\n",
       "          0.00678042,  0.00651099])},\n",
       " {'n_estimators': 60},\n",
       " 0.87522009318649308)"
      ]
     },
     "execution_count": 10,
     "metadata": {},
     "output_type": "execute_result"
    }
   ],
   "source": [
    "gsearch1.cv_results_, gsearch1.best_params_, gsearch1.best_score_"
   ]
  },
  {
   "cell_type": "markdown",
   "metadata": {},
   "source": [
    "## Step 2- Tune tree-specific parameters"
   ]
  },
  {
   "cell_type": "markdown",
   "metadata": {},
   "source": [
    "Now, lets move onto tuning the tree parameters:\n",
    "\n",
    "1. Tune max_depth and min_samples_split\n",
    "2. Tune min_samples_leaf\n",
    "3. Tune max_features\n"
   ]
  },
  {
   "cell_type": "code",
   "execution_count": 11,
   "metadata": {},
   "outputs": [
    {
     "data": {
      "text/plain": [
       "GridSearchCV(cv=5, error_score='raise',\n",
       "       estimator=GradientBoostingClassifier(criterion='friedman_mse', init=None,\n",
       "              learning_rate=0.1, loss='deviance', max_depth=3,\n",
       "              max_features='sqrt', max_leaf_nodes=None,\n",
       "              min_impurity_decrease=0.0, min_impurity_split=None,\n",
       "              min_samples_leaf=1, min_samples_split=2,\n",
       "              min_weight_fraction_leaf=0.0, n_estimators=60,\n",
       "              presort='auto', random_state=10, subsample=0.8, verbose=0,\n",
       "              warm_start=False),\n",
       "       fit_params=None, iid=False, n_jobs=-1,\n",
       "       param_grid={'max_depth': array([ 2,  3,  4,  5,  6,  7,  8,  9, 10]), 'min_samples_split': array([ 3,  5,  7,  9, 11, 13, 15, 17, 19])},\n",
       "       pre_dispatch='2*n_jobs', refit=True, return_train_score=True,\n",
       "       scoring='roc_auc', verbose=0)"
      ]
     },
     "execution_count": 11,
     "metadata": {},
     "output_type": "execute_result"
    }
   ],
   "source": [
    "#Grid seach on max_depth and min_samples_split\n",
    "param_test2 = {'max_depth':np.arange(2,11,1), 'min_samples_split':np.arange(3,20,2)}\n",
    "gsearch2 = GridSearchCV(estimator = GradientBoostingClassifier(learning_rate=0.1, n_estimators=60,\n",
    "                                                max_features='sqrt', subsample=0.8, random_state=10), \n",
    "                       param_grid = param_test2, scoring='roc_auc',n_jobs=-1,iid=False, cv=5)\n",
    "gsearch2.fit(train[predictors],train[target])"
   ]
  },
  {
   "cell_type": "code",
   "execution_count": 12,
   "metadata": {},
   "outputs": [
    {
     "data": {
      "text/plain": [
       "({'mean_fit_time': array([ 0.11461825,  0.10187316,  0.09737225,  0.09812794,  0.10004711,\n",
       "          0.09643679,  0.09616537,  0.10296593,  0.11369061,  0.12785807,\n",
       "          0.14765449,  0.12613406,  0.13109288,  0.13219028,  0.12265816,\n",
       "          0.14994879,  0.1757441 ,  0.1675869 ,  0.1862587 ,  0.18064518,\n",
       "          0.26999426,  0.20511365,  0.1692318 ,  0.16795154,  0.18827429,\n",
       "          0.1608727 ,  0.17615638,  0.25962372,  0.23575311,  0.22317076,\n",
       "          0.22297373,  0.2147265 ,  0.20706549,  0.20250835,  0.20027561,\n",
       "          0.19694877,  0.35940604,  0.32816725,  0.30433311,  0.28780594,\n",
       "          0.27807527,  0.26409893,  0.26123538,  0.25282106,  0.24189119,\n",
       "          0.51889443,  0.44416442,  0.39821205,  0.37124743,  0.3434896 ,\n",
       "          0.32584629,  0.31098933,  0.29640317,  0.28563099,  0.72517962,\n",
       "          0.58592896,  0.50750499,  0.45129957,  0.42456107,  0.39051094,\n",
       "          0.36649976,  0.35023031,  0.33068547,  0.92857962,  0.7814651 ,\n",
       "          0.6221139 ,  0.54365296,  0.52094378,  0.46835408,  0.4220819 ,\n",
       "          0.39456677,  0.36331201,  1.15227652,  0.86683235,  0.72362933,\n",
       "          0.61797318,  0.55490384,  0.50646291,  0.46833949,  0.43250232,\n",
       "          0.37327127]),\n",
       "  'mean_score_time': array([ 0.00309696,  0.00245275,  0.00249825,  0.00248413,  0.00240593,\n",
       "          0.0024148 ,  0.00246935,  0.00244446,  0.00251689,  0.00250459,\n",
       "          0.00322123,  0.00252666,  0.00251875,  0.00256929,  0.00255332,\n",
       "          0.00263934,  0.00474544,  0.0025331 ,  0.00260367,  0.00279818,\n",
       "          0.00377889,  0.00282602,  0.00259781,  0.00371213,  0.00424767,\n",
       "          0.00262566,  0.00271792,  0.0027739 ,  0.00277066,  0.00275245,\n",
       "          0.00277424,  0.00277772,  0.00269656,  0.00275364,  0.00281711,\n",
       "          0.00268373,  0.0029736 ,  0.00294795,  0.00291386,  0.0029038 ,\n",
       "          0.0029088 ,  0.00285125,  0.0029151 ,  0.00294147,  0.00287166,\n",
       "          0.00324278,  0.00315557,  0.00315528,  0.00309138,  0.00305519,\n",
       "          0.00300908,  0.00308204,  0.00299144,  0.00301394,  0.00344853,\n",
       "          0.00333247,  0.00331059,  0.00322452,  0.00392017,  0.00312853,\n",
       "          0.00314283,  0.0030808 ,  0.00307164,  0.00637584,  0.00360179,\n",
       "          0.00342145,  0.00340486,  0.00334444,  0.00339012,  0.00322747,\n",
       "          0.00324597,  0.00311213,  0.00409799,  0.00378876,  0.00360122,\n",
       "          0.00353785,  0.00418072,  0.00329633,  0.00378628,  0.0032177 ,\n",
       "          0.00283093]),\n",
       "  'mean_test_score': array([ 0.87548153,  0.87561645,  0.87538918,  0.87496641,  0.87499315,\n",
       "          0.87476563,  0.87475013,  0.8743944 ,  0.87452654,  0.87361725,\n",
       "          0.8714057 ,  0.87293753,  0.87360076,  0.87241124,  0.87137886,\n",
       "          0.87225543,  0.871425  ,  0.87029713,  0.87375824,  0.87199482,\n",
       "          0.87116206,  0.87257797,  0.87265984,  0.87391025,  0.87331636,\n",
       "          0.8732073 ,  0.87337001,  0.87565895,  0.87529045,  0.86824956,\n",
       "          0.87519811,  0.87549918,  0.87171161,  0.87269861,  0.86834521,\n",
       "          0.87225823,  0.8727078 ,  0.87124775,  0.87264073,  0.87223309,\n",
       "          0.86979957,  0.87309451,  0.87641037,  0.87603831,  0.87107747,\n",
       "          0.86813552,  0.8702521 ,  0.87090716,  0.87591854,  0.87673514,\n",
       "          0.86859529,  0.87278015,  0.87368637,  0.87367316,  0.87112511,\n",
       "          0.86796296,  0.86767012,  0.86770203,  0.86905816,  0.87281011,\n",
       "          0.86607613,  0.8736596 ,  0.8735143 ,  0.86580742,  0.86856116,\n",
       "          0.87331778,  0.8679343 ,  0.87156369,  0.86815958,  0.87154598,\n",
       "          0.87453093,  0.87409896,  0.86035373,  0.86719987,  0.8706743 ,\n",
       "          0.8657335 ,  0.87397026,  0.87054992,  0.8726901 ,  0.87373472,\n",
       "          0.87187388]),\n",
       "  'mean_train_score': array([ 0.89305016,  0.89291579,  0.8929532 ,  0.89286201,  0.89281379,\n",
       "          0.8926399 ,  0.89237381,  0.89257167,  0.89253005,  0.91633455,\n",
       "          0.91655191,  0.91606919,  0.91507298,  0.91480768,  0.91539798,\n",
       "          0.91475683,  0.91490212,  0.91417597,  0.9462165 ,  0.94527524,\n",
       "          0.94472464,  0.94325636,  0.94325099,  0.94054477,  0.94077889,\n",
       "          0.93878012,  0.93899576,  0.96699213,  0.96721023,  0.96617314,\n",
       "          0.96570914,  0.96412711,  0.96210238,  0.95942057,  0.95980388,\n",
       "          0.95852165,  0.98342765,  0.98209029,  0.98062537,  0.97835067,\n",
       "          0.97683347,  0.97508672,  0.97503785,  0.97343548,  0.97249318,\n",
       "          0.9933199 ,  0.99180318,  0.99013827,  0.98841031,  0.98687268,\n",
       "          0.98528764,  0.98370929,  0.98105083,  0.98092205,  0.99784158,\n",
       "          0.99635086,  0.99486864,  0.99374686,  0.99274439,  0.99097059,\n",
       "          0.9887245 ,  0.9879332 ,  0.98672915,  0.99876721,  0.99829091,\n",
       "          0.99767509,  0.99693358,  0.99527994,  0.99386567,  0.99315302,\n",
       "          0.99151909,  0.99068411,  0.99940596,  0.99900978,  0.99864056,\n",
       "          0.99802129,  0.99719132,  0.9962716 ,  0.99505643,  0.99433568,\n",
       "          0.99314253]),\n",
       "  'param_max_depth': masked_array(data = [2 2 2 2 2 2 2 2 2 3 3 3 3 3 3 3 3 3 4 4 4 4 4 4 4 4 4 5 5 5 5 5 5 5 5 5 6\n",
       "   6 6 6 6 6 6 6 6 7 7 7 7 7 7 7 7 7 8 8 8 8 8 8 8 8 8 9 9 9 9 9 9 9 9 9 10\n",
       "   10 10 10 10 10 10 10 10],\n",
       "               mask = [False False False False False False False False False False False False\n",
       "   False False False False False False False False False False False False\n",
       "   False False False False False False False False False False False False\n",
       "   False False False False False False False False False False False False\n",
       "   False False False False False False False False False False False False\n",
       "   False False False False False False False False False False False False\n",
       "   False False False False False False False False False],\n",
       "         fill_value = ?),\n",
       "  'param_min_samples_split': masked_array(data = [3 5 7 9 11 13 15 17 19 3 5 7 9 11 13 15 17 19 3 5 7 9 11 13 15 17 19 3 5 7\n",
       "   9 11 13 15 17 19 3 5 7 9 11 13 15 17 19 3 5 7 9 11 13 15 17 19 3 5 7 9 11\n",
       "   13 15 17 19 3 5 7 9 11 13 15 17 19 3 5 7 9 11 13 15 17 19],\n",
       "               mask = [False False False False False False False False False False False False\n",
       "   False False False False False False False False False False False False\n",
       "   False False False False False False False False False False False False\n",
       "   False False False False False False False False False False False False\n",
       "   False False False False False False False False False False False False\n",
       "   False False False False False False False False False False False False\n",
       "   False False False False False False False False False],\n",
       "         fill_value = ?),\n",
       "  'params': [{'max_depth': 2, 'min_samples_split': 3},\n",
       "   {'max_depth': 2, 'min_samples_split': 5},\n",
       "   {'max_depth': 2, 'min_samples_split': 7},\n",
       "   {'max_depth': 2, 'min_samples_split': 9},\n",
       "   {'max_depth': 2, 'min_samples_split': 11},\n",
       "   {'max_depth': 2, 'min_samples_split': 13},\n",
       "   {'max_depth': 2, 'min_samples_split': 15},\n",
       "   {'max_depth': 2, 'min_samples_split': 17},\n",
       "   {'max_depth': 2, 'min_samples_split': 19},\n",
       "   {'max_depth': 3, 'min_samples_split': 3},\n",
       "   {'max_depth': 3, 'min_samples_split': 5},\n",
       "   {'max_depth': 3, 'min_samples_split': 7},\n",
       "   {'max_depth': 3, 'min_samples_split': 9},\n",
       "   {'max_depth': 3, 'min_samples_split': 11},\n",
       "   {'max_depth': 3, 'min_samples_split': 13},\n",
       "   {'max_depth': 3, 'min_samples_split': 15},\n",
       "   {'max_depth': 3, 'min_samples_split': 17},\n",
       "   {'max_depth': 3, 'min_samples_split': 19},\n",
       "   {'max_depth': 4, 'min_samples_split': 3},\n",
       "   {'max_depth': 4, 'min_samples_split': 5},\n",
       "   {'max_depth': 4, 'min_samples_split': 7},\n",
       "   {'max_depth': 4, 'min_samples_split': 9},\n",
       "   {'max_depth': 4, 'min_samples_split': 11},\n",
       "   {'max_depth': 4, 'min_samples_split': 13},\n",
       "   {'max_depth': 4, 'min_samples_split': 15},\n",
       "   {'max_depth': 4, 'min_samples_split': 17},\n",
       "   {'max_depth': 4, 'min_samples_split': 19},\n",
       "   {'max_depth': 5, 'min_samples_split': 3},\n",
       "   {'max_depth': 5, 'min_samples_split': 5},\n",
       "   {'max_depth': 5, 'min_samples_split': 7},\n",
       "   {'max_depth': 5, 'min_samples_split': 9},\n",
       "   {'max_depth': 5, 'min_samples_split': 11},\n",
       "   {'max_depth': 5, 'min_samples_split': 13},\n",
       "   {'max_depth': 5, 'min_samples_split': 15},\n",
       "   {'max_depth': 5, 'min_samples_split': 17},\n",
       "   {'max_depth': 5, 'min_samples_split': 19},\n",
       "   {'max_depth': 6, 'min_samples_split': 3},\n",
       "   {'max_depth': 6, 'min_samples_split': 5},\n",
       "   {'max_depth': 6, 'min_samples_split': 7},\n",
       "   {'max_depth': 6, 'min_samples_split': 9},\n",
       "   {'max_depth': 6, 'min_samples_split': 11},\n",
       "   {'max_depth': 6, 'min_samples_split': 13},\n",
       "   {'max_depth': 6, 'min_samples_split': 15},\n",
       "   {'max_depth': 6, 'min_samples_split': 17},\n",
       "   {'max_depth': 6, 'min_samples_split': 19},\n",
       "   {'max_depth': 7, 'min_samples_split': 3},\n",
       "   {'max_depth': 7, 'min_samples_split': 5},\n",
       "   {'max_depth': 7, 'min_samples_split': 7},\n",
       "   {'max_depth': 7, 'min_samples_split': 9},\n",
       "   {'max_depth': 7, 'min_samples_split': 11},\n",
       "   {'max_depth': 7, 'min_samples_split': 13},\n",
       "   {'max_depth': 7, 'min_samples_split': 15},\n",
       "   {'max_depth': 7, 'min_samples_split': 17},\n",
       "   {'max_depth': 7, 'min_samples_split': 19},\n",
       "   {'max_depth': 8, 'min_samples_split': 3},\n",
       "   {'max_depth': 8, 'min_samples_split': 5},\n",
       "   {'max_depth': 8, 'min_samples_split': 7},\n",
       "   {'max_depth': 8, 'min_samples_split': 9},\n",
       "   {'max_depth': 8, 'min_samples_split': 11},\n",
       "   {'max_depth': 8, 'min_samples_split': 13},\n",
       "   {'max_depth': 8, 'min_samples_split': 15},\n",
       "   {'max_depth': 8, 'min_samples_split': 17},\n",
       "   {'max_depth': 8, 'min_samples_split': 19},\n",
       "   {'max_depth': 9, 'min_samples_split': 3},\n",
       "   {'max_depth': 9, 'min_samples_split': 5},\n",
       "   {'max_depth': 9, 'min_samples_split': 7},\n",
       "   {'max_depth': 9, 'min_samples_split': 9},\n",
       "   {'max_depth': 9, 'min_samples_split': 11},\n",
       "   {'max_depth': 9, 'min_samples_split': 13},\n",
       "   {'max_depth': 9, 'min_samples_split': 15},\n",
       "   {'max_depth': 9, 'min_samples_split': 17},\n",
       "   {'max_depth': 9, 'min_samples_split': 19},\n",
       "   {'max_depth': 10, 'min_samples_split': 3},\n",
       "   {'max_depth': 10, 'min_samples_split': 5},\n",
       "   {'max_depth': 10, 'min_samples_split': 7},\n",
       "   {'max_depth': 10, 'min_samples_split': 9},\n",
       "   {'max_depth': 10, 'min_samples_split': 11},\n",
       "   {'max_depth': 10, 'min_samples_split': 13},\n",
       "   {'max_depth': 10, 'min_samples_split': 15},\n",
       "   {'max_depth': 10, 'min_samples_split': 17},\n",
       "   {'max_depth': 10, 'min_samples_split': 19}],\n",
       "  'rank_test_score': array([ 8,  6,  9, 13, 12, 14, 15, 18, 17, 27, 54, 35, 28, 44, 55, 46, 53,\n",
       "         63, 22, 48, 57, 43, 41, 21, 32, 33, 30,  5, 10, 70, 11,  7, 50, 39,\n",
       "         69, 45, 38, 56, 42, 47, 65, 34,  2,  3, 59, 72, 64, 60,  4,  1, 67,\n",
       "         37, 24, 25, 58, 73, 76, 75, 66, 36, 78, 26, 29, 79, 68, 31, 74, 51,\n",
       "         71, 52, 16, 19, 81, 77, 61, 80, 20, 62, 40, 23, 49], dtype=int32),\n",
       "  'split0_test_score': array([ 0.86745718,  0.86745718,  0.86745718,  0.8657444 ,  0.8657444 ,\n",
       "          0.8657444 ,  0.86495389,  0.86495389,  0.8654809 ,  0.86949934,\n",
       "          0.87068511,  0.87035573,  0.87173913,  0.87055336,  0.86646904,\n",
       "          0.87239789,  0.8698946 ,  0.86666667,  0.86818182,  0.8654809 ,\n",
       "          0.8715415 ,  0.8729249 ,  0.87213439,  0.87503294,  0.87055336,\n",
       "          0.87042161,  0.87648221,  0.87602108,  0.87081686,  0.87299078,\n",
       "          0.87206851,  0.87055336,  0.86719368,  0.87213439,  0.86488801,\n",
       "          0.864361  ,  0.87819499,  0.871278  ,  0.8671278 ,  0.87226614,\n",
       "          0.87608696,  0.87206851,  0.87002635,  0.87173913,  0.8740448 ,\n",
       "          0.86857708,  0.86653491,  0.86824769,  0.86778656,  0.87338603,\n",
       "          0.86594203,  0.86982872,  0.86534914,  0.87635046,  0.86956522,\n",
       "          0.85678524,  0.85744401,  0.85586298,  0.85862978,  0.87378129,\n",
       "          0.87200264,  0.8629776 ,  0.87061924,  0.86337286,  0.87048748,\n",
       "          0.86534914,  0.86916996,  0.86633729,  0.85961792,  0.8657444 ,\n",
       "          0.87167325,  0.86890646,  0.85876153,  0.86376812,  0.8740448 ,\n",
       "          0.87470356,  0.8770751 ,  0.86613966,  0.87562582,  0.864361  ,\n",
       "          0.87206851]),\n",
       "  'split0_train_score': array([ 0.89462398,  0.89462398,  0.89462398,  0.89496608,  0.89496608,\n",
       "          0.89496608,  0.89476583,  0.89477417,  0.89469907,  0.91785777,\n",
       "          0.91673968,  0.91394862,  0.91329779,  0.91328527,  0.91321435,\n",
       "          0.91353559,  0.91618063,  0.91554649,  0.94877636,  0.94539288,\n",
       "          0.94336112,  0.94074528,  0.94271863,  0.93992757,  0.94349045,\n",
       "          0.93863009,  0.94106235,  0.9680259 ,  0.96709555,  0.9664322 ,\n",
       "          0.96722488,  0.9659858 ,  0.96238537,  0.96222267,  0.96166779,\n",
       "          0.95793387,  0.98423824,  0.98073794,  0.9787938 ,  0.97819303,\n",
       "          0.97621134,  0.97747962,  0.97558554,  0.97551461,  0.97190585,\n",
       "          0.99400486,  0.99229017,  0.99044615,  0.98702095,  0.986537  ,\n",
       "          0.98529375,  0.9841548 ,  0.98213138,  0.98042087,  0.99796407,\n",
       "          0.9963954 ,  0.99489766,  0.99323304,  0.99207323,  0.99106361,\n",
       "          0.98805978,  0.98922793,  0.98495582,  0.99879847,  0.99808923,\n",
       "          0.99738834,  0.99720477,  0.99389221,  0.99272823,  0.99326641,\n",
       "          0.99196476,  0.98990379,  0.99934083,  0.99894032,  0.99874006,\n",
       "          0.99808089,  0.99722146,  0.99641209,  0.99496858,  0.99438451,\n",
       "          0.99266565]),\n",
       "  'split1_test_score': array([ 0.83787879,  0.83787879,  0.83787879,  0.83787879,  0.83787879,\n",
       "          0.83787879,  0.83939394,  0.83761528,  0.83761528,  0.82378129,\n",
       "          0.82272727,  0.82325428,  0.82147563,  0.82213439,  0.81897233,\n",
       "          0.81897233,  0.81745718,  0.81508564,  0.82094862,  0.81870883,\n",
       "          0.8185112 ,  0.82483531,  0.81943347,  0.82200264,  0.82206851,\n",
       "          0.8215415 ,  0.82279315,  0.82312253,  0.82042161,  0.814361  ,\n",
       "          0.8215415 ,  0.81627141,  0.82200264,  0.81772069,  0.81930171,\n",
       "          0.82463768,  0.81620553,  0.81495389,  0.82635046,  0.81343874,\n",
       "          0.8157444 ,  0.82575758,  0.82088274,  0.82819499,  0.81495389,\n",
       "          0.81113307,  0.81534914,  0.82285903,  0.82140975,  0.8154809 ,\n",
       "          0.81245059,  0.82720685,  0.83115942,  0.81785244,  0.8157444 ,\n",
       "          0.81666667,  0.81482213,  0.82206851,  0.81534914,  0.81969697,\n",
       "          0.81403162,  0.81890646,  0.81429513,  0.81343874,  0.80942029,\n",
       "          0.82391304,  0.82140975,  0.81455863,  0.81416337,  0.82088274,\n",
       "          0.8171278 ,  0.82272727,  0.8102108 ,  0.80770751,  0.81258235,\n",
       "          0.80889328,  0.81561265,  0.81640316,  0.81449275,  0.82167325,\n",
       "          0.81666667]),\n",
       "  'split1_train_score': array([ 0.90201257,  0.90201257,  0.90201257,  0.90201257,  0.90202091,\n",
       "          0.90180397,  0.90079435,  0.90191661,  0.90191661,  0.9275034 ,\n",
       "          0.92876751,  0.92880923,  0.92507948,  0.92798735,  0.92779127,\n",
       "          0.92744916,  0.9278455 ,  0.92856726,  0.9555308 ,  0.9574666 ,\n",
       "          0.9519721 ,  0.95285656,  0.95391624,  0.94866371,  0.94762906,\n",
       "          0.94801706,  0.95090824,  0.97631981,  0.97631146,  0.97587758,\n",
       "          0.97450082,  0.97029546,  0.96957788,  0.96565204,  0.96375379,\n",
       "          0.96535166,  0.98890252,  0.98563585,  0.98443015,  0.9826654 ,\n",
       "          0.98189358,  0.9790608 ,  0.98017889,  0.97783841,  0.9760236 ,\n",
       "          0.99505202,  0.99313291,  0.99206071,  0.99182708,  0.98758834,\n",
       "          0.98962844,  0.98746735,  0.98427578,  0.98404633,  0.99818519,\n",
       "          0.99714219,  0.99608251,  0.99549843,  0.99437199,  0.99354594,\n",
       "          0.99131393,  0.99057131,  0.99067144,  0.99938672,  0.99883602,\n",
       "          0.99811009,  0.9977513 ,  0.99680843,  0.99587391,  0.9948476 ,\n",
       "          0.9943553 ,  0.99295352,  0.99961201,  0.99927825,  0.99905296,\n",
       "          0.99838544,  0.9978848 ,  0.99671248,  0.99619098,  0.99559021,\n",
       "          0.9949811 ]),\n",
       "  'split2_test_score': array([ 0.88188503,  0.88188503,  0.88188503,  0.88148396,  0.88161765,\n",
       "          0.88161765,  0.88161765,  0.88161765,  0.88175134,  0.89191176,\n",
       "          0.88790107,  0.88495989,  0.8881016 ,  0.88475936,  0.88362299,\n",
       "          0.88716578,  0.88409091,  0.88562834,  0.89705882,  0.89425134,\n",
       "          0.89585561,  0.89338235,  0.8967246 ,  0.89465241,  0.89618984,\n",
       "          0.89879679,  0.88957219,  0.9078877 ,  0.90187166,  0.89759358,\n",
       "          0.90969251,  0.90187166,  0.8940508 ,  0.89385027,  0.89652406,\n",
       "          0.90147059,  0.89044118,  0.90066845,  0.90695187,  0.9013369 ,\n",
       "          0.88950535,  0.89893048,  0.9165107 ,  0.89973262,  0.89645722,\n",
       "          0.90621658,  0.89872995,  0.90207219,  0.91223262,  0.9144385 ,\n",
       "          0.89572193,  0.89278075,  0.90213904,  0.90347594,  0.90367647,\n",
       "          0.91316845,  0.90601604,  0.90715241,  0.91089572,  0.89779412,\n",
       "          0.89852941,  0.90120321,  0.90033422,  0.89933155,  0.90955882,\n",
       "          0.91450535,  0.89639037,  0.90895722,  0.91209893,  0.90334225,\n",
       "          0.91069519,  0.90407754,  0.90334225,  0.90514706,  0.90862299,\n",
       "          0.89953209,  0.9046123 ,  0.91330214,  0.90247326,  0.9084893 ,\n",
       "          0.90013369]),\n",
       "  'split2_train_score': array([ 0.89397353,  0.89397353,  0.89397353,  0.89319206,  0.89295097,\n",
       "          0.89295097,  0.89295097,  0.89280964,  0.89267662,  0.91177693,\n",
       "          0.91293667,  0.91243786,  0.91334403,  0.91336066,  0.91330662,\n",
       "          0.9148654 ,  0.91324011,  0.91092895,  0.94310227,  0.94169729,\n",
       "          0.94271569,  0.93961475,  0.93871273,  0.93662188,  0.9361397 ,\n",
       "          0.93607319,  0.93445621,  0.96420199,  0.96410222,  0.96159985,\n",
       "          0.9629799 ,  0.96122159,  0.95905592,  0.95527742,  0.95720616,\n",
       "          0.95591341,  0.98203864,  0.98198045,  0.97827262,  0.97649352,\n",
       "          0.97512179,  0.97364614,  0.97261942,  0.9712186 ,  0.97024591,\n",
       "          0.99322448,  0.99060157,  0.98907188,  0.98729279,  0.98425835,\n",
       "          0.98414196,  0.98242522,  0.9794282 ,  0.97880884,  0.99731058,\n",
       "          0.99593885,  0.99401842,  0.99322032,  0.99248874,  0.99029397,\n",
       "          0.98925062,  0.98755882,  0.98486108,  0.99836639,  0.99770963,\n",
       "          0.99719419,  0.99657899,  0.99504099,  0.99327021,  0.99183197,\n",
       "          0.99035216,  0.98930881,  0.99929751,  0.99854929,  0.99806711,\n",
       "          0.9975101 ,  0.99666212,  0.99599704,  0.99455049,  0.99332009,\n",
       "          0.99211463]),\n",
       "  'split3_test_score': array([ 0.88435829,  0.88435829,  0.88322193,  0.88322193,  0.88322193,\n",
       "          0.88221925,  0.88141711,  0.88141711,  0.88141711,  0.87045455,\n",
       "          0.86617647,  0.87199198,  0.87606952,  0.87466578,  0.87653743,\n",
       "          0.87239305,  0.87533422,  0.87078877,  0.86550802,  0.86437166,\n",
       "          0.85274064,  0.85748663,  0.8625    ,  0.85995989,  0.86276738,\n",
       "          0.8625    ,  0.85949198,  0.85875668,  0.86570856,  0.84244652,\n",
       "          0.8578877 ,  0.86644385,  0.85875668,  0.86343583,  0.85113636,\n",
       "          0.85541444,  0.86463904,  0.85534759,  0.85768717,  0.85581551,\n",
       "          0.85434492,  0.85701872,  0.85187166,  0.86397059,  0.84953209,\n",
       "          0.84979947,  0.85247326,  0.85033422,  0.85661765,  0.86610963,\n",
       "          0.85581551,  0.86009358,  0.85086898,  0.8480615 ,  0.8480615 ,\n",
       "          0.84298128,  0.85106952,  0.84712567,  0.84993316,  0.85541444,\n",
       "          0.83830214,  0.8605615 ,  0.85915775,  0.84632353,  0.84191176,\n",
       "          0.85247326,  0.85260695,  0.8506016 ,  0.84632353,  0.85822193,\n",
       "          0.85808824,  0.85741979,  0.82774064,  0.85294118,  0.85006684,\n",
       "          0.83923797,  0.86544118,  0.85033422,  0.85875668,  0.86029412,\n",
       "          0.85367647]),\n",
       "  'split3_train_score': array([ 0.8911885 ,  0.8911885 ,  0.89137555,  0.89137555,  0.89136724,\n",
       "          0.89074788,  0.89062734,  0.89062734,  0.89062734,  0.91932976,\n",
       "          0.91971634,  0.92011539,  0.91778761,  0.91416707,  0.91794556,\n",
       "          0.91467835,  0.91416291,  0.91359344,  0.94935404,  0.94580832,\n",
       "          0.95013135,  0.94649835,  0.9459455 ,  0.94410405,  0.94395857,\n",
       "          0.94157674,  0.93843007,  0.96659212,  0.96719901,  0.96834212,\n",
       "          0.96409391,  0.96671267,  0.96365329,  0.96312538,  0.96233144,\n",
       "          0.9621527 ,  0.98269125,  0.98336465,  0.98228805,  0.98040088,\n",
       "          0.97774471,  0.97620255,  0.97577025,  0.97281063,  0.97506776,\n",
       "          0.99230584,  0.9924347 ,  0.9883777 ,  0.98831119,  0.98947508,\n",
       "          0.98582545,  0.98360574,  0.98002261,  0.9833979 ,  0.99776366,\n",
       "          0.99642519,  0.99593469,  0.9945297 ,  0.99285037,  0.99161582,\n",
       "          0.99006534,  0.98885157,  0.9885315 ,  0.99860333,  0.99847863,\n",
       "          0.99825416,  0.99669122,  0.995386  ,  0.99525298,  0.99399764,\n",
       "          0.99125418,  0.99099646,  0.99945131,  0.99914371,  0.99866152,\n",
       "          0.99792993,  0.99755583,  0.99642519,  0.99566866,  0.99462115,\n",
       "          0.99374823]),\n",
       "  'split4_test_score': array([ 0.90582839,  0.90650297,  0.90650297,  0.90650297,  0.90650297,\n",
       "          0.90636805,  0.90636805,  0.90636805,  0.90636805,  0.91243929,\n",
       "          0.90953859,  0.91412574,  0.91061792,  0.90994334,  0.9112925 ,\n",
       "          0.91034808,  0.91034808,  0.91331624,  0.9170939 ,  0.91716136,\n",
       "          0.91716136,  0.91426066,  0.91250675,  0.9179034 ,  0.9150027 ,\n",
       "          0.91277658,  0.91851052,  0.91250675,  0.91763357,  0.91385591,\n",
       "          0.91480032,  0.92235564,  0.91655424,  0.91635186,  0.90987588,\n",
       "          0.91540745,  0.91405828,  0.91399083,  0.90508635,  0.91830815,\n",
       "          0.91331624,  0.91169725,  0.92276039,  0.91655424,  0.92039935,\n",
       "          0.90495143,  0.91817323,  0.91102267,  0.92154614,  0.91426066,\n",
       "          0.91304641,  0.91399083,  0.91891527,  0.92262547,  0.91857798,\n",
       "          0.91021317,  0.90899892,  0.90630059,  0.910483  ,  0.91736373,\n",
       "          0.90751484,  0.92464922,  0.92316514,  0.90657043,  0.91142742,\n",
       "          0.91034808,  0.90009444,  0.91736373,  0.90859417,  0.90953859,\n",
       "          0.91507016,  0.91736373,  0.90171344,  0.90643551,  0.90805451,\n",
       "          0.90630059,  0.90711009,  0.90657043,  0.912102  ,  0.91385591,\n",
       "          0.91682407]),\n",
       "  'split4_train_score': array([ 0.88345222,  0.88278036,  0.88278036,  0.88276377,  0.88276377,\n",
       "          0.88273059,  0.88273059,  0.88273059,  0.88273059,  0.90520488,\n",
       "          0.90459937,  0.90503484,  0.90585601,  0.90523806,  0.90473208,\n",
       "          0.90325564,  0.90308145,  0.9022437 ,  0.93431901,  0.93601111,\n",
       "          0.93544293,  0.93656685,  0.93496184,  0.9334066 ,  0.93267668,\n",
       "          0.92960352,  0.93012193,  0.95982084,  0.9613429 ,  0.95861397,\n",
       "          0.95974618,  0.95642004,  0.95583942,  0.95082532,  0.95406022,\n",
       "          0.95125664,  0.97926758,  0.97873258,  0.97934224,  0.9740005 ,\n",
       "          0.97319592,  0.96904446,  0.97103517,  0.96979512,  0.96922279,\n",
       "          0.99201228,  0.99055657,  0.9907349 ,  0.98759954,  0.98650464,\n",
       "          0.98154861,  0.98089333,  0.97939615,  0.9779363 ,  0.99798441,\n",
       "          0.99585269,  0.99340992,  0.99225282,  0.99193762,  0.98833361,\n",
       "          0.98493281,  0.98345637,  0.98462591,  0.99868115,  0.99834107,\n",
       "          0.99742867,  0.99644161,  0.99527206,  0.99220305,  0.9918215 ,\n",
       "          0.98966904,  0.99025796,  0.99932814,  0.99913736,  0.99868115,\n",
       "          0.99820007,  0.99663238,  0.99581121,  0.99390345,  0.99376244,\n",
       "          0.99220305]),\n",
       "  'std_fit_time': array([ 0.01174093,  0.00747025,  0.00054442,  0.00218194,  0.00557263,\n",
       "          0.00161636,  0.00071937,  0.00702765,  0.02940937,  0.00332052,\n",
       "          0.03603709,  0.00268806,  0.01066051,  0.01929072,  0.00137162,\n",
       "          0.02433377,  0.04249879,  0.05006251,  0.01758667,  0.02169922,\n",
       "          0.06817336,  0.04167551,  0.01200671,  0.00551081,  0.03334059,\n",
       "          0.00718702,  0.02591488,  0.0326414 ,  0.00250668,  0.00426634,\n",
       "          0.00591267,  0.0070656 ,  0.00227658,  0.00425037,  0.00235824,\n",
       "          0.00620174,  0.00551169,  0.00987363,  0.00794533,  0.0066373 ,\n",
       "          0.00981768,  0.00726864,  0.00532353,  0.00580784,  0.00406457,\n",
       "          0.01041973,  0.0095418 ,  0.00801511,  0.0125579 ,  0.01087226,\n",
       "          0.00355263,  0.00881261,  0.00715703,  0.005116  ,  0.02889752,\n",
       "          0.01443293,  0.01682019,  0.01102927,  0.0147397 ,  0.00426754,\n",
       "          0.00856903,  0.01142793,  0.00432442,  0.03006577,  0.08499849,\n",
       "          0.01848237,  0.012376  ,  0.03959364,  0.02528829,  0.0069757 ,\n",
       "          0.00610578,  0.00260813,  0.03692746,  0.02115589,  0.00965668,\n",
       "          0.00653788,  0.01012515,  0.00604177,  0.01014569,  0.01270979,\n",
       "          0.05170095]),\n",
       "  'std_score_time': array([  3.01332623e-04,   9.21819591e-05,   1.32829972e-04,\n",
       "           8.04686405e-05,   4.72945545e-05,   4.64711022e-05,\n",
       "           8.49433436e-05,   7.37641654e-05,   9.27819739e-05,\n",
       "           6.29244403e-05,   1.44679708e-03,   2.94547218e-05,\n",
       "           5.89285847e-05,   8.31165056e-05,   5.57260473e-05,\n",
       "           1.09092630e-04,   4.06936651e-03,   6.90692657e-05,\n",
       "           4.08091827e-05,   1.61714990e-04,   1.91882186e-03,\n",
       "           2.88013883e-04,   1.92809740e-05,   2.21449349e-03,\n",
       "           3.26671978e-03,   5.05045515e-05,   1.02435055e-04,\n",
       "           4.15375802e-05,   5.02537502e-05,   6.39752354e-05,\n",
       "           4.23969644e-05,   1.03106771e-04,   5.95174915e-05,\n",
       "           7.49780907e-05,   1.30563151e-04,   3.79825865e-05,\n",
       "           8.00408349e-05,   4.86844901e-05,   4.19032709e-05,\n",
       "           6.81676368e-05,   3.17419576e-05,   3.29576929e-05,\n",
       "           1.19740485e-04,   9.63852452e-05,   6.10056448e-05,\n",
       "           1.05768179e-04,   3.45450668e-05,   9.41409157e-05,\n",
       "           1.09995222e-04,   7.03976387e-05,   8.46888836e-05,\n",
       "           2.44916209e-04,   1.14722303e-04,   7.67173937e-05,\n",
       "           4.18187547e-05,   3.21448374e-05,   7.99604305e-05,\n",
       "           1.05692933e-04,   1.46503475e-03,   3.10984114e-05,\n",
       "           8.14956415e-05,   4.63723585e-05,   8.33819821e-05,\n",
       "           5.06433233e-03,   5.82356597e-05,   2.63939597e-05,\n",
       "           7.68295501e-05,   5.49122243e-05,   2.88853506e-04,\n",
       "           6.22097992e-05,   1.00628639e-04,   1.08697956e-05,\n",
       "           1.22882277e-04,   8.76248967e-05,   1.19103060e-04,\n",
       "           5.51505825e-05,   1.61867792e-03,   6.08753930e-05,\n",
       "           9.95681767e-04,   3.94932298e-05,   4.48604572e-04]),\n",
       "  'std_test_score': array([ 0.02244589,  0.02262917,  0.02254578,  0.0226527 ,  0.02266045,\n",
       "          0.02255323,  0.02207864,  0.02265231,  0.0226178 ,  0.02950397,\n",
       "          0.02871817,  0.02938364,  0.02935007,  0.02862667,  0.03013363,\n",
       "          0.03004163,  0.0303499 ,  0.03208558,  0.03258501,  0.03309172,\n",
       "          0.03416815,  0.03058594,  0.03194819,  0.03242193,  0.03164239,\n",
       "          0.03166168,  0.03181346,  0.03299196,  0.03353182,  0.03614765,\n",
       "          0.03448674,  0.03607055,  0.03215315,  0.03305053,  0.03234874,\n",
       "          0.03264663,  0.03259465,  0.0349696 ,  0.03041961,  0.03659578,\n",
       "          0.03311301,  0.03052192,  0.03868483,  0.03051575,  0.03660504,\n",
       "          0.03575266,  0.0359212 ,  0.03261734,  0.03690651,  0.03662215,\n",
       "          0.03474002,  0.02947857,  0.03241571,  0.0375862 ,  0.03718266,\n",
       "          0.03797091,  0.03564139,  0.03374063,  0.03694746,  0.0338638 ,\n",
       "          0.03545569,  0.03644767,  0.03716427,  0.03439046,  0.03931887,\n",
       "          0.03465972,  0.02913764,  0.03797952,  0.0374993 ,  0.03234932,\n",
       "          0.03612459,  0.03380758,  0.0377865 ,  0.03669837,  0.03646392,\n",
       "          0.03688175,  0.03324208,  0.03601451,  0.03472758,  0.03404851,\n",
       "          0.0352084 ]),\n",
       "  'std_train_score': array([ 0.00598733,  0.00620481,  0.00619484,  0.00620408,  0.00620512,\n",
       "          0.00618485,  0.00588221,  0.00621068,  0.00620457,  0.00749235,\n",
       "          0.00793981,  0.00797647,  0.00630226,  0.00734988,  0.00752313,\n",
       "          0.00767961,  0.00790193,  0.00851175,  0.00713305,  0.00703638,\n",
       "          0.00589582,  0.00577911,  0.00648995,  0.0053909 ,  0.00550556,\n",
       "          0.00607786,  0.00701214,  0.00543041,  0.00503847,  0.00594985,\n",
       "          0.00500411,  0.00481725,  0.00462329,  0.00550368,  0.00361116,\n",
       "          0.00489413,  0.00317518,  0.0023371 ,  0.00235701,  0.00300726,\n",
       "          0.00293202,  0.00350281,  0.00313487,  0.00290743,  0.00265265,\n",
       "          0.00111505,  0.00103943,  0.00129486,  0.00176186,  0.00169514,\n",
       "          0.00262392,  0.00218681,  0.00189716,  0.00242992,  0.00029715,\n",
       "          0.00045862,  0.00104513,  0.00113615,  0.00087487,  0.00170111,\n",
       "          0.00217249,  0.00243563,  0.00244328,  0.00034049,  0.00037775,\n",
       "          0.00042397,  0.00048347,  0.00093064,  0.00144016,  0.00119298,\n",
       "          0.00161847,  0.00125934,  0.00011539,  0.00025423,  0.00031966,\n",
       "          0.0002959 ,  0.00049136,  0.00032405,  0.00080685,  0.00077689,\n",
       "          0.00108755])},\n",
       " {'max_depth': 7, 'min_samples_split': 11},\n",
       " 0.87673514338106417)"
      ]
     },
     "execution_count": 12,
     "metadata": {},
     "output_type": "execute_result"
    }
   ],
   "source": [
    "gsearch2.cv_results_, gsearch2.best_params_, gsearch2.best_score_"
   ]
  },
  {
   "cell_type": "code",
   "execution_count": 13,
   "metadata": {},
   "outputs": [
    {
     "data": {
      "text/plain": [
       "GridSearchCV(cv=5, error_score='raise',\n",
       "       estimator=GradientBoostingClassifier(criterion='friedman_mse', init=None,\n",
       "              learning_rate=0.1, loss='deviance', max_depth=7,\n",
       "              max_features='sqrt', max_leaf_nodes=None,\n",
       "              min_impurity_decrease=0.0, min_impurity_split=None,\n",
       "              min_samples_leaf=1, min_samples_split=11,\n",
       "              min_weight_fraction_leaf=0.0, n_estimators=60,\n",
       "              presort='auto', random_state=10, subsample=0.8, verbose=0,\n",
       "              warm_start=False),\n",
       "       fit_params=None, iid=False, n_jobs=-1,\n",
       "       param_grid={'min_samples_leaf': array([ 1,  3,  5,  7,  9, 11, 13, 15, 17, 19, 21, 23, 25, 27, 29])},\n",
       "       pre_dispatch='2*n_jobs', refit=True, return_train_score=True,\n",
       "       scoring='roc_auc', verbose=0)"
      ]
     },
     "execution_count": 13,
     "metadata": {},
     "output_type": "execute_result"
    }
   ],
   "source": [
    "#Grid seach on min_samples_leaf\n",
    "param_test3 = {'min_samples_leaf':np.arange(1,30,2)}\n",
    "gsearch3 = GridSearchCV(estimator = GradientBoostingClassifier(learning_rate=0.1, n_estimators=60, max_depth=7,\n",
    "                                  min_samples_split=11, max_features='sqrt', subsample=0.8, random_state=10), \n",
    "                       param_grid = param_test3, scoring='roc_auc',n_jobs=-1,iid=False, cv=5)\n",
    "gsearch3.fit(train[predictors],train[target])"
   ]
  },
  {
   "cell_type": "code",
   "execution_count": 14,
   "metadata": {},
   "outputs": [
    {
     "data": {
      "text/plain": [
       "({'mean_fit_time': array([ 0.36385908,  0.31144972,  0.2937417 ,  0.26086926,  0.23554988,\n",
       "          0.22202787,  0.21203814,  0.19371805,  0.18315549,  0.17938805,\n",
       "          0.18070626,  0.16422844,  0.1573523 ,  0.15226965,  0.14435873]),\n",
       "  'mean_score_time': array([ 0.00369492,  0.00292654,  0.00295472,  0.00294156,  0.00283017,\n",
       "          0.00283141,  0.00277834,  0.00280991,  0.00272574,  0.00279045,\n",
       "          0.00277452,  0.00273514,  0.00271349,  0.00268974,  0.0024272 ]),\n",
       "  'mean_test_score': array([ 0.87673514,  0.87076028,  0.86813689,  0.8714886 ,  0.87495734,\n",
       "          0.87423532,  0.87426827,  0.87600674,  0.87515791,  0.87555527,\n",
       "          0.87600196,  0.87830764,  0.87758085,  0.87695461,  0.87719158]),\n",
       "  'mean_train_score': array([ 0.98687268,  0.98097873,  0.9775849 ,  0.9703668 ,  0.96289818,\n",
       "          0.95767451,  0.95227587,  0.94844184,  0.94405758,  0.94126196,\n",
       "          0.93699292,  0.93349692,  0.93162064,  0.92843712,  0.92564956]),\n",
       "  'param_min_samples_leaf': masked_array(data = [1 3 5 7 9 11 13 15 17 19 21 23 25 27 29],\n",
       "               mask = [False False False False False False False False False False False False\n",
       "   False False False],\n",
       "         fill_value = ?),\n",
       "  'params': [{'min_samples_leaf': 1},\n",
       "   {'min_samples_leaf': 3},\n",
       "   {'min_samples_leaf': 5},\n",
       "   {'min_samples_leaf': 7},\n",
       "   {'min_samples_leaf': 9},\n",
       "   {'min_samples_leaf': 11},\n",
       "   {'min_samples_leaf': 13},\n",
       "   {'min_samples_leaf': 15},\n",
       "   {'min_samples_leaf': 17},\n",
       "   {'min_samples_leaf': 19},\n",
       "   {'min_samples_leaf': 21},\n",
       "   {'min_samples_leaf': 23},\n",
       "   {'min_samples_leaf': 25},\n",
       "   {'min_samples_leaf': 27},\n",
       "   {'min_samples_leaf': 29}],\n",
       "  'rank_test_score': array([ 5, 14, 15, 13, 10, 12, 11,  6,  9,  8,  7,  1,  2,  4,  3], dtype=int32),\n",
       "  'split0_test_score': array([ 0.87338603,  0.87305665,  0.85546772,  0.85638999,  0.86811594,\n",
       "          0.87108037,  0.86607378,  0.8698946 ,  0.8698946 ,  0.86343874,\n",
       "          0.8698946 ,  0.86824769,  0.86811594,  0.86185771,  0.86205534]),\n",
       "  'split0_train_score': array([ 0.986537  ,  0.9804167 ,  0.97638656,  0.96802173,  0.96256894,\n",
       "          0.95710364,  0.95094996,  0.94868457,  0.94593523,  0.94258096,\n",
       "          0.93757457,  0.93462915,  0.93222609,  0.92934325,  0.92612247]),\n",
       "  'split1_test_score': array([ 0.8154809 ,  0.81310935,  0.8154809 ,  0.81772069,  0.8226614 ,\n",
       "          0.81455863,  0.82187088,  0.82918314,  0.82891963,  0.82812912,\n",
       "          0.8312253 ,  0.83972332,  0.83254282,  0.83208169,  0.83471673]),\n",
       "  'split1_train_score': array([ 0.98758834,  0.98486403,  0.98278639,  0.97625306,  0.96965297,\n",
       "          0.96518478,  0.95978623,  0.95872237,  0.9540414 ,  0.94953149,\n",
       "          0.94697823,  0.94416214,  0.94283962,  0.93693626,  0.93508807]),\n",
       "  'split2_test_score': array([ 0.9144385 ,  0.89572193,  0.90661765,  0.90868984,  0.90481283,\n",
       "          0.91437166,  0.90173797,  0.89665775,  0.89859626,  0.89739305,\n",
       "          0.89498663,  0.89331551,  0.89545455,  0.8953877 ,  0.89639037]),\n",
       "  'split2_train_score': array([ 0.98425835,  0.98161881,  0.97587417,  0.96775601,  0.95862777,\n",
       "          0.95337363,  0.95174002,  0.9433018 ,  0.93888316,  0.93630597,\n",
       "          0.93407795,  0.92874067,  0.92943069,  0.92511182,  0.92238498]),\n",
       "  'split3_test_score': array([ 0.86610963,  0.85407754,  0.84953209,  0.85808824,  0.86169786,\n",
       "          0.85467914,  0.86537433,  0.87179144,  0.86991979,  0.87205882,\n",
       "          0.87072193,  0.86991979,  0.87860963,  0.87727273,  0.87941176]),\n",
       "  'split3_train_score': array([ 0.98947508,  0.98090385,  0.97772808,  0.97144722,  0.96235638,\n",
       "          0.95940093,  0.95533562,  0.94998587,  0.94515571,  0.94373826,\n",
       "          0.93872105,  0.93573649,  0.93371215,  0.93158805,  0.92801739]),\n",
       "  'split4_test_score': array([ 0.91426066,  0.91783594,  0.91358608,  0.91655424,  0.91749865,\n",
       "          0.91648678,  0.9162844 ,  0.91250675,  0.90845926,  0.91675661,\n",
       "          0.91318133,  0.92033189,  0.91318133,  0.91817323,  0.9133837 ]),\n",
       "  'split4_train_score': array([ 0.98650464,  0.97709025,  0.9751493 ,  0.96835601,  0.96128484,\n",
       "          0.95330956,  0.94356752,  0.9415146 ,  0.9362724 ,  0.93415312,\n",
       "          0.92761281,  0.92421616,  0.91989466,  0.9192062 ,  0.91663487]),\n",
       "  'std_fit_time': array([ 0.02788185,  0.00888212,  0.00508512,  0.00140908,  0.00253114,\n",
       "          0.00503587,  0.0141306 ,  0.0026865 ,  0.0015008 ,  0.00619564,\n",
       "          0.0211314 ,  0.00274279,  0.00194139,  0.0013544 ,  0.01156694]),\n",
       "  'std_score_time': array([  3.42564892e-04,   8.66451824e-05,   6.57954073e-05,\n",
       "           1.98863243e-04,   8.86749949e-05,   6.66077508e-05,\n",
       "           8.84433828e-05,   7.89377380e-05,   5.30841202e-05,\n",
       "           8.56700029e-05,   1.13856732e-04,   7.36010163e-05,\n",
       "           4.09609503e-05,   9.61617057e-05,   3.64929013e-04]),\n",
       "  'std_test_score': array([ 0.03662215,  0.0359066 ,  0.03694779,  0.03664252,  0.03364104,\n",
       "          0.0383401 ,  0.03289887,  0.02830651,  0.02775412,  0.03027446,\n",
       "          0.02761467,  0.02702437,  0.02722473,  0.02925868,  0.02726394]),\n",
       "  'std_train_score': array([ 0.00169514,  0.00248785,  0.00273389,  0.0032303 ,  0.00365701,\n",
       "          0.00441046,  0.00536   ,  0.00604217,  0.00619341,  0.0055019 ,\n",
       "          0.00631688,  0.0067646 ,  0.00738784,  0.00598752,  0.0061129 ])},\n",
       " {'min_samples_leaf': 23},\n",
       " 0.87830764056719635)"
      ]
     },
     "execution_count": 14,
     "metadata": {},
     "output_type": "execute_result"
    }
   ],
   "source": [
    "gsearch3.cv_results_, gsearch3.best_params_, gsearch3.best_score_"
   ]
  },
  {
   "cell_type": "markdown",
   "metadata": {},
   "source": [
    "Let’s fit the model again on this and have a look at the feature importance."
   ]
  },
  {
   "cell_type": "code",
   "execution_count": 15,
   "metadata": {},
   "outputs": [
    {
     "name": "stdout",
     "output_type": "stream",
     "text": [
      "\n",
      "Model Report\n",
      "Accuracy : 0.8721\n",
      "AUC Score (Train): 0.932251\n",
      "CV Score : Mean - 0.8783076 | Std - 0.02702437 | Min - 0.8397233 | Max - 0.9203319\n"
     ]
    },
    {
     "data": {
      "image/png": "[encoded data removed]",
      "text/plain": [
       "<matplotlib.figure.Figure at 0x7f7af8e58dd8>"
      ]
     },
     "metadata": {},
     "output_type": "display_data"
    }
   ],
   "source": [
    "modelfit(gsearch3.best_estimator_, train, predictors)"
   ]
  },
  {
   "cell_type": "markdown",
   "metadata": {},
   "source": [
    "As we can see, the importance is fairly distributed between different features as opposed to the baseline model."
   ]
  },
  {
   "cell_type": "markdown",
   "metadata": {},
   "source": [
    "Tuning max_features"
   ]
  },
  {
   "cell_type": "code",
   "execution_count": 16,
   "metadata": {},
   "outputs": [
    {
     "data": {
      "text/plain": [
       "GridSearchCV(cv=5, error_score='raise',\n",
       "       estimator=GradientBoostingClassifier(criterion='friedman_mse', init=None,\n",
       "              learning_rate=0.1, loss='deviance', max_depth=7,\n",
       "              max_features=None, max_leaf_nodes=None,\n",
       "              min_impurity_decrease=0.0, min_impurity_split=None,\n",
       "              min_samples_leaf=23, min_samples_split=11,\n",
       "              min_weight_fraction_leaf=0.0, n_estimators=60,\n",
       "              presort='auto', random_state=10, subsample=0.8, verbose=0,\n",
       "              warm_start=False),\n",
       "       fit_params=None, iid=False, n_jobs=-1,\n",
       "       param_grid={'max_features': array([ 3,  4,  5,  6,  7,  8,  9, 10, 11, 12])},\n",
       "       pre_dispatch='2*n_jobs', refit=True, return_train_score=True,\n",
       "       scoring='roc_auc', verbose=0)"
      ]
     },
     "execution_count": 16,
     "metadata": {},
     "output_type": "execute_result"
    }
   ],
   "source": [
    "#Grid seach on max_features\n",
    "param_test4 = {'max_features':np.arange(3,13,1)}\n",
    "gsearch4 = GridSearchCV(estimator = GradientBoostingClassifier(learning_rate=0.1, n_estimators=60, max_depth=7,\n",
    "                                  min_samples_split=11, min_samples_leaf=23, subsample=0.8, random_state=10), \n",
    "                       param_grid = param_test4, scoring='roc_auc',n_jobs=-1,iid=False, cv=5)\n",
    "gsearch4.fit(train[predictors],train[target])"
   ]
  },
  {
   "cell_type": "code",
   "execution_count": 17,
   "metadata": {},
   "outputs": [
    {
     "data": {
      "text/plain": [
       "({'mean_fit_time': array([ 0.40874028,  0.17581553,  0.18404207,  0.19853125,  0.19853053,\n",
       "          0.20816283,  0.21244645,  0.21973572,  0.22320089,  0.19941239]),\n",
       "  'mean_score_time': array([ 0.15477161,  0.00279508,  0.00286255,  0.00278516,  0.00275798,\n",
       "          0.00280461,  0.00280299,  0.0028811 ,  0.00283189,  0.0024611 ]),\n",
       "  'mean_test_score': array([ 0.87830764,  0.87756978,  0.87796069,  0.87795849,  0.87961095,\n",
       "          0.87628101,  0.87782459,  0.88030906,  0.8772502 ,  0.87937144]),\n",
       "  'mean_train_score': array([ 0.93349692,  0.94055994,  0.9451535 ,  0.94971086,  0.95219498,\n",
       "          0.95430221,  0.95638474,  0.95784961,  0.95880795,  0.96026892]),\n",
       "  'param_max_features': masked_array(data = [3 4 5 6 7 8 9 10 11 12],\n",
       "               mask = [False False False False False False False False False False],\n",
       "         fill_value = ?),\n",
       "  'params': [{'max_features': 3},\n",
       "   {'max_features': 4},\n",
       "   {'max_features': 5},\n",
       "   {'max_features': 6},\n",
       "   {'max_features': 7},\n",
       "   {'max_features': 8},\n",
       "   {'max_features': 9},\n",
       "   {'max_features': 10},\n",
       "   {'max_features': 11},\n",
       "   {'max_features': 12}],\n",
       "  'rank_test_score': array([ 4,  8,  5,  6,  2, 10,  7,  1,  9,  3], dtype=int32),\n",
       "  'split0_test_score': array([ 0.86824769,  0.87055336,  0.86943347,  0.87075099,  0.87351779,\n",
       "          0.86930171,  0.86719368,  0.86627141,  0.87193676,  0.87542819]),\n",
       "  'split0_train_score': array([ 0.93462915,  0.94333609,  0.94547632,  0.95092076,  0.95457542,\n",
       "          0.95603978,  0.95675737,  0.95779202,  0.96068738,  0.95981126]),\n",
       "  'split1_test_score': array([ 0.83972332,  0.82865613,  0.83214756,  0.83241107,  0.82852437,\n",
       "          0.82667984,  0.82786561,  0.83181818,  0.82654809,  0.83432148]),\n",
       "  'split1_train_score': array([ 0.94416214,  0.94754145,  0.95294   ,  0.95645698,  0.95756673,\n",
       "          0.96121722,  0.96277337,  0.96500538,  0.96458401,  0.96607758]),\n",
       "  'split2_test_score': array([ 0.89331551,  0.90274064,  0.90113636,  0.90782086,  0.90828877,\n",
       "          0.90287433,  0.90508021,  0.91236631,  0.90621658,  0.90354278]),\n",
       "  'split2_train_score': array([ 0.92874067,  0.93520859,  0.94218363,  0.94497697,  0.94738789,\n",
       "          0.95150308,  0.95199358,  0.95524832,  0.95514025,  0.9557222 ]),\n",
       "  'split3_test_score': array([ 0.86991979,  0.87379679,  0.87673797,  0.8671123 ,  0.88074866,\n",
       "          0.87125668,  0.87580214,  0.8815508 ,  0.87727273,  0.87820856]),\n",
       "  'split3_train_score': array([ 0.93573649,  0.94193007,  0.94451973,  0.95008979,  0.95326139,\n",
       "          0.95495735,  0.95711055,  0.95639143,  0.95804998,  0.96013252]),\n",
       "  'split4_test_score': array([ 0.92033189,  0.912102  ,  0.91034808,  0.91169725,  0.90697518,\n",
       "          0.9112925 ,  0.91318133,  0.90953859,  0.90427685,  0.90535618]),\n",
       "  'split4_train_score': array([ 0.92421616,  0.93478351,  0.94064781,  0.94610982,  0.94818348,\n",
       "          0.94779363,  0.95328882,  0.95481088,  0.95557814,  0.95960103]),\n",
       "  'std_fit_time': array([ 0.124413  ,  0.00153893,  0.00142638,  0.0048272 ,  0.00221516,\n",
       "          0.00420321,  0.00376499,  0.00371362,  0.00382671,  0.03518582]),\n",
       "  'std_score_time': array([  7.60489864e-02,   8.22925617e-05,   6.55120461e-05,\n",
       "           1.04460363e-04,   9.23535716e-05,   6.86381541e-05,\n",
       "           7.03385077e-05,   4.90540997e-05,   7.61119938e-05,\n",
       "           4.29128371e-04]),\n",
       "  'std_test_score': array([ 0.02702437,  0.02926451,  0.02741936,  0.02923772,  0.02904988,\n",
       "          0.0298906 ,  0.03035119,  0.02977245,  0.02887361,  0.02571327]),\n",
       "  'std_train_score': array([ 0.0067646 ,  0.00490571,  0.00424869,  0.00406189,  0.00386936,\n",
       "          0.00450472,  0.00375093,  0.00372385,  0.00350295,  0.00331926])},\n",
       " {'max_features': 10},\n",
       " 0.88030905798879)"
      ]
     },
     "execution_count": 17,
     "metadata": {},
     "output_type": "execute_result"
    }
   ],
   "source": [
    "gsearch4.cv_results_, gsearch4.best_params_, gsearch4.best_score_"
   ]
  },
  {
   "cell_type": "markdown",
   "metadata": {},
   "source": [
    "we have the final tree-parameters as:\n",
    "- min_samples_split: 11\n",
    "- min_samples_leaf: 23\n",
    "- max_depth: 7\n",
    "- max_features: 10\n"
   ]
  },
  {
   "cell_type": "markdown",
   "metadata": {},
   "source": [
    "## Step3- Tune Subsample and Lower Learning Rate"
   ]
  },
  {
   "cell_type": "code",
   "execution_count": 18,
   "metadata": {},
   "outputs": [
    {
     "data": {
      "text/plain": [
       "GridSearchCV(cv=5, error_score='raise',\n",
       "       estimator=GradientBoostingClassifier(criterion='friedman_mse', init=None,\n",
       "              learning_rate=0.1, loss='deviance', max_depth=7,\n",
       "              max_features=10, max_leaf_nodes=None,\n",
       "              min_impurity_decrease=0.0, min_impurity_split=None,\n",
       "              min_samples_leaf=23, min_samples_split=11,\n",
       "              min_weight_fraction_leaf=0.0, n_estimators=60,\n",
       "              presort='auto', random_state=10, subsample=1.0, verbose=0,\n",
       "              warm_start=False),\n",
       "       fit_params=None, iid=False, n_jobs=-1,\n",
       "       param_grid={'subsample': [0.6, 0.7, 0.75, 0.8, 0.85, 0.9]},\n",
       "       pre_dispatch='2*n_jobs', refit=True, return_train_score=True,\n",
       "       scoring='roc_auc', verbose=0)"
      ]
     },
     "execution_count": 18,
     "metadata": {},
     "output_type": "execute_result"
    }
   ],
   "source": [
    "param_test5 = {'subsample':[0.6,0.7,0.75,0.8,0.85,0.9]}\n",
    "gsearch5 = GridSearchCV(estimator = GradientBoostingClassifier(learning_rate=0.1, n_estimators=60, max_depth=7,\n",
    "                                  min_samples_split=11, min_samples_leaf=23, max_features=10, random_state=10), \n",
    "                       param_grid = param_test5, scoring='roc_auc',n_jobs=-1,iid=False, cv=5)\n",
    "gsearch5.fit(train[predictors],train[target])"
   ]
  },
  {
   "cell_type": "code",
   "execution_count": 19,
   "metadata": {},
   "outputs": [
    {
     "data": {
      "text/plain": [
       "({'mean_fit_time': array([ 0.24906607,  0.20541196,  0.21937304,  0.22100959,  0.22288804,\n",
       "          0.20602007]),\n",
       "  'mean_score_time': array([ 0.00346336,  0.0027988 ,  0.00280027,  0.00282226,  0.00281086,\n",
       "          0.00242848]),\n",
       "  'mean_test_score': array([ 0.87692189,  0.88079032,  0.88152745,  0.88030906,  0.87494239,\n",
       "          0.87652555]),\n",
       "  'mean_train_score': array([ 0.94710339,  0.9545782 ,  0.95536328,  0.95784961,  0.96055075,\n",
       "          0.96125259]),\n",
       "  'param_subsample': masked_array(data = [0.6 0.7 0.75 0.8 0.85 0.9],\n",
       "               mask = [False False False False False False],\n",
       "         fill_value = ?),\n",
       "  'params': [{'subsample': 0.6},\n",
       "   {'subsample': 0.7},\n",
       "   {'subsample': 0.75},\n",
       "   {'subsample': 0.8},\n",
       "   {'subsample': 0.85},\n",
       "   {'subsample': 0.9}],\n",
       "  'rank_test_score': array([4, 2, 1, 3, 6, 5], dtype=int32),\n",
       "  'split0_test_score': array([ 0.86429513,  0.87483531,  0.87588933,  0.86627141,  0.8654809 ,\n",
       "          0.86824769]),\n",
       "  'split0_train_score': array([ 0.9457767 ,  0.9546672 ,  0.95523042,  0.95779202,  0.9606248 ,\n",
       "          0.95976537]),\n",
       "  'split1_test_score': array([ 0.83484848,  0.83168643,  0.83267457,  0.83181818,  0.82641634,\n",
       "          0.82878788]),\n",
       "  'split1_train_score': array([ 0.95606482,  0.96122973,  0.96153429,  0.96500538,  0.96625698,\n",
       "          0.96740427]),\n",
       "  'split2_test_score': array([ 0.89946524,  0.90995989,  0.90755348,  0.91236631,  0.90340909,\n",
       "          0.90681818]),\n",
       "  'split2_train_score': array([ 0.94077033,  0.95174418,  0.95220973,  0.95524832,  0.95853217,\n",
       "          0.95945081]),\n",
       "  'split3_test_score': array([ 0.87740642,  0.8790107 ,  0.87874332,  0.8815508 ,  0.87566845,\n",
       "          0.8709893 ]),\n",
       "  'split3_train_score': array([ 0.94758742,  0.95410937,  0.95593419,  0.95639143,  0.95979998,\n",
       "          0.96022397]),\n",
       "  'split4_test_score': array([ 0.90859417,  0.90845926,  0.91277658,  0.90953859,  0.90373718,\n",
       "          0.90778467]),\n",
       "  'split4_train_score': array([ 0.94531768,  0.95114051,  0.95190776,  0.95481088,  0.95753981,\n",
       "          0.95941855]),\n",
       "  'std_fit_time': array([ 0.05427046,  0.00171317,  0.01530502,  0.00744149,  0.00214473,\n",
       "          0.02535226]),\n",
       "  'std_score_time': array([  3.18575280e-04,   4.46318052e-05,   4.52466455e-05,\n",
       "           4.37492831e-05,   5.76804665e-05,   4.12525200e-04]),\n",
       "  'std_test_score': array([ 0.02623424,  0.02851756,  0.02856573,  0.02977245,  0.02858083,\n",
       "          0.02923298]),\n",
       "  'std_train_score': array([ 0.00501194,  0.00358664,  0.00347305,  0.00372385,  0.00304206,\n",
       "          0.00308944])},\n",
       " {'subsample': 0.75},\n",
       " 0.88152745396668308)"
      ]
     },
     "execution_count": 19,
     "metadata": {},
     "output_type": "execute_result"
    }
   ],
   "source": [
    "gsearch5.cv_results_, gsearch5.best_params_, gsearch5.best_score_"
   ]
  },
  {
   "cell_type": "markdown",
   "metadata": {},
   "source": [
    "Now, we need to lower the learning rate and increase the number of estimators proportionally."
   ]
  },
  {
   "cell_type": "code",
   "execution_count": 20,
   "metadata": {},
   "outputs": [
    {
     "name": "stdout",
     "output_type": "stream",
     "text": [
      "\n",
      "Model Report\n",
      "Accuracy : 0.8967\n",
      "AUC Score (Train): 0.957775\n",
      "CV Score : Mean - 0.8772529 | Std - 0.03005328 | Min - 0.8277339 | Max - 0.9098084\n"
     ]
    },
    {
     "data": {
      "image/png": "[encoded data removed]",
      "text/plain": [
       "<matplotlib.figure.Figure at 0x7f7af8e91630>"
      ]
     },
     "metadata": {},
     "output_type": "display_data"
    }
   ],
   "source": [
    "#Choose all predictors except target & IDcols\n",
    "predictors = [x for x in train.columns if x not in [target, IDcol]]\n",
    "gbm_tuned_1 = GradientBoostingClassifier(learning_rate=0.05, n_estimators=120,max_depth=7, min_samples_split=11, \n",
    "                                         min_samples_leaf=23, subsample=0.75, max_features=10, random_state=10)\n",
    "modelfit(gbm_tuned_1, train, predictors)"
   ]
  },
  {
   "cell_type": "code",
   "execution_count": 21,
   "metadata": {},
   "outputs": [
    {
     "name": "stdout",
     "output_type": "stream",
     "text": [
      "\n",
      "Model Report\n",
      "Accuracy : 0.8945\n",
      "AUC Score (Train): 0.956859\n",
      "CV Score : Mean - 0.8778803 | Std - 0.02874807 | Min - 0.8301054 | Max - 0.9083243\n"
     ]
    },
    {
     "data": {
      "image/png": "[encoded data removed]",
      "text/plain": [
       "<matplotlib.figure.Figure at 0x7f7af84d96a0>"
      ]
     },
     "metadata": {},
     "output_type": "display_data"
    }
   ],
   "source": [
    "#Choose all predictors except target & IDcols\n",
    "predictors = [x for x in train.columns if x not in [target, IDcol]]\n",
    "gbm_tuned_2 = GradientBoostingClassifier(learning_rate=0.01, n_estimators=600, max_depth=7, min_samples_split=11, \n",
    "                                         min_samples_leaf=23, subsample=0.75, max_features=10, random_state=10)\n",
    "modelfit(gbm_tuned_2, train, predictors)"
   ]
  },
  {
   "cell_type": "code",
   "execution_count": 22,
   "metadata": {},
   "outputs": [
    {
     "name": "stdout",
     "output_type": "stream",
     "text": [
      "\n",
      "Model Report\n",
      "Accuracy : 0.9012\n",
      "AUC Score (Train): 0.957743\n"
     ]
    },
    {
     "data": {
      "image/png": "[encoded data removed]",
      "text/plain": [
       "<matplotlib.figure.Figure at 0x7f7af83bfba8>"
      ]
     },
     "metadata": {},
     "output_type": "display_data"
    }
   ],
   "source": [
    "#Choose all predictors except target & IDcols\n",
    "predictors = [x for x in train.columns if x not in [target, IDcol]]\n",
    "gbm_tuned_3 = GradientBoostingClassifier(learning_rate=0.005, n_estimators=1200,max_depth=7, min_samples_split=11, \n",
    "                                         min_samples_leaf=23, subsample=0.75, max_features=10, random_state=10)\n",
    "modelfit(gbm_tuned_3, train, predictors, performCV=False)"
   ]
  },
  {
   "cell_type": "code",
   "execution_count": 25,
   "metadata": {},
   "outputs": [
    {
     "name": "stdout",
     "output_type": "stream",
     "text": [
      "\n",
      "Model Report\n",
      "Accuracy : 0.908\n",
      "AUC Score (Train): 0.967788\n"
     ]
    },
    {
     "data": {
      "image/png": "[encoded data removed]",
      "text/plain": [
       "<matplotlib.figure.Figure at 0x7f7af82612e8>"
      ]
     },
     "metadata": {},
     "output_type": "display_data"
    }
   ],
   "source": [
    "#Choose all predictors except target & IDcols\n",
    "predictors = [x for x in train.columns if x not in [target, IDcol]]\n",
    "gbm_tuned_4 = GradientBoostingClassifier(learning_rate=0.005, n_estimators=1600,max_depth=7, min_samples_split=11, \n",
    "                                         min_samples_leaf=23, subsample=0.75, max_features=10, random_state=10)\n",
    "modelfit(gbm_tuned_4, train, predictors, performCV=False)"
   ]
  },
  {
   "cell_type": "code",
   "execution_count": 24,
   "metadata": {
    "collapsed": true
   },
   "outputs": [],
   "source": [
    "gbm_final = GradientBoostingClassifier(learning_rate=0.005, n_estimators=1600,max_depth=7, min_samples_split=11, \n",
    "                                         min_samples_leaf=23, subsample=0.75, max_features=10, random_state=0)\n",
    "gbm_final.fit(train[predictors], train['Survived'])\n",
    "my_prediction=gbm_final.predict(test[predictors]).astype(int)"
   ]
  },
  {
   "cell_type": "code",
   "execution_count": 26,
   "metadata": {
    "collapsed": true
   },
   "outputs": [],
   "source": [
    "PassengerId =np.array(test[\"PassengerId\"]).astype(int)\n",
    "my_solution = pd.DataFrame(my_prediction, PassengerId, columns = [\"Survived\"])"
   ]
  },
  {
   "cell_type": "code",
   "execution_count": 27,
   "metadata": {
    "collapsed": true
   },
   "outputs": [],
   "source": [
    "my_solution.to_csv(\"my_submission.csv\", index_label = [\"PassengerId\"])"
   ]
  },
  {
   "cell_type": "code",
   "execution_count": 28,
   "metadata": {},
   "outputs": [
    {
     "data": {
      "text/plain": [
       "(418, 1)"
      ]
     },
     "execution_count": 28,
     "metadata": {},
     "output_type": "execute_result"
    }
   ],
   "source": [
    "my_solution.shape"
   ]
  },
  {
   "cell_type": "code",
   "execution_count": 29,
   "metadata": {},
   "outputs": [
    {
     "data": {
      "text/plain": [
       "0.90572390572390571"
      ]
     },
     "execution_count": 29,
     "metadata": {},
     "output_type": "execute_result"
    }
   ],
   "source": [
    "gbm_final.score(train[predictors], train[target])"
   ]
  },
  {
   "cell_type": "code",
   "execution_count": null,
   "metadata": {
    "collapsed": true
   },
   "outputs": [],
   "source": []
  }
 ],
 "metadata": {
  "kernelspec": {
   "display_name": "Python 3",
   "language": "python",
   "name": "python3"
  },
  "language_info": {
   "codemirror_mode": {
    "name": "ipython",
    "version": 3
   },
   "file_extension": ".py",
   "mimetype": "text/x-python",
   "name": "python",
   "nbconvert_exporter": "python",
   "pygments_lexer": "ipython3",
   "version": "3.6.2"
  }
 },
 "nbformat": 4,
 "nbformat_minor": 2
}
